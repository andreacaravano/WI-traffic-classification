{
  "nbformat": 4,
  "nbformat_minor": 0,
  "metadata": {
    "colab": {
      "provenance": []
    },
    "kernelspec": {
      "name": "python3",
      "display_name": "Python 3"
    },
    "language_info": {
      "name": "python"
    }
  },
  "cells": [
    {
      "cell_type": "markdown",
      "source": [
        "# **Politecnico di Milano**\n",
        "## *Student: Caravano Andrea*\n",
        "\n",
        "*A.Y.: 2023/2024*\n",
        "\n",
        "*Last modified: 09/09/2024*\n",
        "\n",
        "### Description: Wireless Internet/Wireless Networks project: Wi-Fi encrypted traffic classification"
      ],
      "metadata": {
        "id": "P4EqA7BNsUTQ"
      }
    },
    {
      "cell_type": "code",
      "execution_count": 3,
      "metadata": {
        "colab": {
          "base_uri": "https://localhost:8080/"
        },
        "id": "L5TPkdnDr-yL",
        "outputId": "a0ebec92-2286-4911-da5d-1d54aaeeb61b"
      },
      "outputs": [
        {
          "output_type": "stream",
          "name": "stdout",
          "text": [
            "Reading package lists... Done\n",
            "Building dependency tree... Done\n",
            "Reading state information... Done\n",
            "tshark is already the newest version (3.6.2-2).\n",
            "0 upgraded, 0 newly installed, 0 to remove and 49 not upgraded.\n",
            "Requirement already satisfied: pyshark in /usr/local/lib/python3.10/dist-packages (0.6)\n",
            "Requirement already satisfied: lxml in /usr/local/lib/python3.10/dist-packages (from pyshark) (4.9.4)\n",
            "Requirement already satisfied: termcolor in /usr/local/lib/python3.10/dist-packages (from pyshark) (2.4.0)\n",
            "Requirement already satisfied: packaging in /usr/local/lib/python3.10/dist-packages (from pyshark) (24.1)\n",
            "Requirement already satisfied: appdirs in /usr/local/lib/python3.10/dist-packages (from pyshark) (1.4.4)\n"
          ]
        }
      ],
      "source": [
        "# Install tshark and pyshark to elaborate packets in pcaps\n",
        "!apt-get install tshark\n",
        "!pip install pyshark"
      ]
    },
    {
      "cell_type": "code",
      "source": [
        "import pyshark\n",
        "import os\n",
        "import nest_asyncio\n",
        "import pandas as pd\n",
        "import numpy as np\n",
        "\n",
        "target_addr = '8a:c4:06:ee:1d:83' # target address on which we are applying the ML algorithm\n",
        "\n",
        "dataset = [] # final datasets\n",
        "traffic_types = ['youtube', 'speedtest', 'web', 'idle']\n",
        "\n",
        "for tt in range(0, len(traffic_types)):\n",
        "  print('Processing {} packets...'.format(traffic_types[tt]))\n",
        "  # We load the file (uploaded via drag and drop)\n",
        "  nest_asyncio.apply()\n",
        "  cap = pyshark.FileCapture('{}-filtered.pcapng'.format(traffic_types[tt]))\n",
        "\n",
        "  # buffers\n",
        "  TIMESTAMP = [] # array (in ms)\n",
        "  DIRECTION = [] # up (sa = target)/down (da = target)\n",
        "  LENGTH = [] # in bytes\n",
        "\n",
        "  failed = 0 # count packets not correctly parsed\n",
        "  count = 0 # count total packats\n",
        "\n",
        "  # Note: captures have already been filtered via Wireshark (export only filtered ones, so as to match source and destination address)\n",
        "\n",
        "  # Processing of packets\n",
        "  for frame in cap:\n",
        "    count += 1 # overall count\n",
        "    success = False # malformed packets\n",
        "\n",
        "    try:\n",
        "      layers = frame.layers # pointer to layers\n",
        "      timestamp = frame.sniff_timestamp # TS in ms\n",
        "      sa = layers[2].sa # 802.11 frame: Source address\n",
        "      da = layers[2].da # 802.11 frame: Destination address\n",
        "      length = int(frame.length) # frame length\n",
        "      success = True # packet is non malformed\n",
        "    except:\n",
        "      failed += 1 # processing failed: counting the packet as malformed\n",
        "      success = False\n",
        "\n",
        "    # add read parameters to buffers\n",
        "    if (success):\n",
        "      TIMESTAMP.append(timestamp)\n",
        "      # compute direction\n",
        "      if (sa == target_addr):\n",
        "        direction = \"up\"\n",
        "      else: # (da == target_addr), read note!\n",
        "        direction = \"down\"\n",
        "      DIRECTION.append(direction)\n",
        "      LENGTH.append(length)\n",
        "\n",
        "  print(\"{} frames could not be processed on {} total\".format(failed, count))\n",
        "\n",
        "  # parse timestamps as integers (the window parameter is in seconds)\n",
        "  INT_TIMESTAMP = []\n",
        "  for t in TIMESTAMP:\n",
        "    INT_TIMESTAMP.append(round(float(t)))\n",
        "\n",
        "  W = 1 # window parameter, integer parameter in seconds that tells frequency on which aggregated data is computed\n",
        "\n",
        "  UP_COUNT = [0] # count packets up\n",
        "  DOWN_COUNT = [0] # count packets down\n",
        "\n",
        "  j = 0 # rounds counter (number of rounds = total packets / different timestamps)\n",
        "  ts_buffer = INT_TIMESTAMP[0] # latest timestamp being tracked\n",
        "\n",
        "  # average packet length\n",
        "  AVG_LENGTH_UP = [0]\n",
        "  AVG_LENGTH_DOWN = [0]\n",
        "\n",
        "  # length buffer\n",
        "  LENGTH_UP_BUFFER = []\n",
        "  LENGTH_DOWN_BUFFER = []\n",
        "\n",
        "  # variance of packet length\n",
        "  VAR_LENGTH_UP = [0]\n",
        "  VAR_LENGTH_DOWN = [0]\n",
        "\n",
        "  # inter-arrival packet times\n",
        "  TS_ROUND_UP_BUFFER = []\n",
        "  TS_ROUND_DOWN_BUFFER = []\n",
        "  AVG_INTER_UP = [0]\n",
        "  AVG_INTER_DOWN = [0]\n",
        "  VAR_INTER_UP = [0]\n",
        "  VAR_INTER_DOWN = [0]\n",
        "  ts_counter = 0\n",
        "\n",
        "  # processing\n",
        "  for i in range(0, len(INT_TIMESTAMP)):\n",
        "    if (INT_TIMESTAMP[i] >= ts_buffer + W): # grouping by timestamp (round)\n",
        "      # variance computation of the latest round\n",
        "      VAR_LENGTH_UP[j] = np.var(LENGTH_UP_BUFFER)\n",
        "      VAR_LENGTH_DOWN[j] = np.var(LENGTH_DOWN_BUFFER)\n",
        "      VAR_INTER_UP[j] = np.var(TS_ROUND_UP_BUFFER)\n",
        "      VAR_INTER_DOWN[j] = np.var(TS_ROUND_DOWN_BUFFER)\n",
        "\n",
        "      # new round: initialization...\n",
        "      UP_COUNT.append(0)\n",
        "      DOWN_COUNT.append(0)\n",
        "      AVG_LENGTH_UP.append(0)\n",
        "      AVG_LENGTH_DOWN.append(0)\n",
        "      VAR_LENGTH_UP.append(0)\n",
        "      VAR_LENGTH_DOWN.append(0)\n",
        "      AVG_INTER_UP.append(0)\n",
        "      AVG_INTER_DOWN.append(0)\n",
        "      VAR_INTER_UP.append(0)\n",
        "      VAR_INTER_DOWN.append(0)\n",
        "      LENGTH_UP_BUFFER = []\n",
        "      LENGTH_DOWN_BUFFER = []\n",
        "      TS_ROUND_UP_BUFFER = []\n",
        "      TS_ROUND_DOWN_BUFFER = []\n",
        "      # preparing new round...\n",
        "      ts_buffer = INT_TIMESTAMP[i]\n",
        "      j += 1\n",
        "    # computations\n",
        "    if (DIRECTION[i] == 'up'):\n",
        "      UP_COUNT[j] += 1\n",
        "      AVG_LENGTH_UP[j] += LENGTH[i]\n",
        "      LENGTH_UP_BUFFER.append(LENGTH[i])\n",
        "      TS_ROUND_UP_BUFFER.append(float(TIMESTAMP[i]) - float(TIMESTAMP[i - 1]))\n",
        "      if (i > 0):\n",
        "        AVG_INTER_UP[j] += float(TIMESTAMP[i]) - float(TIMESTAMP[i - 1])\n",
        "    else:\n",
        "      DOWN_COUNT[j] += 1\n",
        "      AVG_LENGTH_DOWN[j] += LENGTH[i]\n",
        "      LENGTH_DOWN_BUFFER.append(LENGTH[i])\n",
        "      TS_ROUND_DOWN_BUFFER.append(float(TIMESTAMP[i]) - float(TIMESTAMP[i - 1]))\n",
        "      if (i > 0):\n",
        "        AVG_INTER_DOWN[j] += float(TIMESTAMP[i]) - float(TIMESTAMP[i - 1])\n",
        "\n",
        "  # variance computation of the last round\n",
        "  VAR_LENGTH_UP[j] = np.var(LENGTH_UP_BUFFER)\n",
        "  VAR_LENGTH_DOWN[j] = np.var(LENGTH_DOWN_BUFFER)\n",
        "  VAR_INTER_UP[j] = np.var(TS_ROUND_UP_BUFFER)\n",
        "  VAR_INTER_DOWN[j] = np.var(TS_ROUND_DOWN_BUFFER)\n",
        "\n",
        "  # average computation\n",
        "  for j in range(0, len(UP_COUNT)):\n",
        "    if (AVG_LENGTH_UP[j] != 0):\n",
        "      AVG_LENGTH_UP[j] /= UP_COUNT[j]\n",
        "      AVG_INTER_UP[j] /= UP_COUNT[j]\n",
        "    if (AVG_LENGTH_DOWN[j] != 0):\n",
        "      AVG_LENGTH_DOWN[j] /= DOWN_COUNT[j]\n",
        "      AVG_INTER_DOWN[j] /= DOWN_COUNT[j]\n",
        "\n",
        "  # transform regular array into numpy arrays, it is necessary for panda computation\n",
        "  UP_COUNT = np.array(UP_COUNT)\n",
        "  DOWN_COUNT = np.array(DOWN_COUNT)\n",
        "  AVG_LENGTH_UP = np.array(AVG_LENGTH_UP)\n",
        "  AVG_LENGTH_DOWN = np.array(AVG_LENGTH_DOWN)\n",
        "  VAR_LENGTH_UP = np.array(VAR_LENGTH_UP)\n",
        "  VAR_LENGTH_DOWN = np.array(VAR_LENGTH_DOWN)\n",
        "  AVG_INTER_UP = np.array(AVG_INTER_UP)\n",
        "  AVG_INTER_DOWN = np.array(AVG_INTER_DOWN)\n",
        "  VAR_LENGTH_UP = np.array(VAR_LENGTH_UP)\n",
        "  VAR_LENGTH_DOWN = np.array(VAR_LENGTH_DOWN)\n",
        "\n",
        "  # final dataset, classified by type\n",
        "  # it will then be joined\n",
        "  dataset.append(pd.DataFrame({'frames_up': UP_COUNT[:], 'frames_down': DOWN_COUNT[:], 'avg_length_up': AVG_LENGTH_UP[:], 'avg_length_down': AVG_LENGTH_DOWN[:], 'var_length_up': VAR_LENGTH_UP[:], 'var_length_down': VAR_LENGTH_DOWN[:], 'avg_inter_up': AVG_INTER_UP[:], 'avg_inter_down': AVG_INTER_DOWN[:], 'var_inter_up': VAR_INTER_UP[:], 'var_inter_down': VAR_INTER_DOWN[:],'type': '{}'.format(traffic_types[tt])}).dropna())"
      ],
      "metadata": {
        "colab": {
          "base_uri": "https://localhost:8080/"
        },
        "id": "R1CrzrPstFrq",
        "outputId": "ef14e932-c740-4526-c75e-425611fa0419"
      },
      "execution_count": 4,
      "outputs": [
        {
          "output_type": "stream",
          "name": "stdout",
          "text": [
            "Processing youtube packets...\n",
            "0 frames could not be processed on 12425 total\n",
            "Processing speedtest packets...\n"
          ]
        },
        {
          "output_type": "stream",
          "name": "stderr",
          "text": [
            "/usr/local/lib/python3.10/dist-packages/numpy/core/fromnumeric.py:3787: RuntimeWarning: Degrees of freedom <= 0 for slice\n",
            "  return _methods._var(a, axis=axis, dtype=dtype, out=out, ddof=ddof,\n",
            "/usr/local/lib/python3.10/dist-packages/numpy/core/_methods.py:163: RuntimeWarning: invalid value encountered in divide\n",
            "  arrmean = um.true_divide(arrmean, div, out=arrmean,\n",
            "/usr/local/lib/python3.10/dist-packages/numpy/core/_methods.py:198: RuntimeWarning: invalid value encountered in scalar divide\n",
            "  ret = ret.dtype.type(ret / rcount)\n"
          ]
        },
        {
          "output_type": "stream",
          "name": "stdout",
          "text": [
            "12 frames could not be processed on 20111 total\n",
            "Processing web packets...\n",
            "5 frames could not be processed on 12810 total\n",
            "Processing idle packets...\n",
            "0 frames could not be processed on 7611 total\n"
          ]
        }
      ]
    },
    {
      "cell_type": "code",
      "source": [
        "import matplotlib.pyplot as plt\n",
        "from sklearn.preprocessing import StandardScaler\n",
        "from sklearn.model_selection import train_test_split\n",
        "from sklearn.neighbors import KNeighborsClassifier\n",
        "from sklearn.metrics import accuracy_score, ConfusionMatrixDisplay\n",
        "\n",
        "# join all datasets\n",
        "joined_ds = pd.concat([dataset[0], dataset[1], dataset[2], dataset[3]])\n",
        "\n",
        "scaler = StandardScaler();\n",
        "\n",
        "X = joined_ds;\n",
        "Y = X['type'];\n",
        "X = X.drop('type',axis=1);\n",
        "\n",
        "X_norm = scaler.fit_transform(X);\n",
        "\n",
        "X_train, X_test, y_train, y_test = train_test_split(X_norm, Y, test_size=0.5) # 50% will be used for the training set, the rest for the testing set\n",
        "\n",
        "# K-NeirestNeighbor (up to 4)\n",
        "# as seen for localization fingerprinting\n",
        "ACCURACY = []\n",
        "for k in range(1,5):\n",
        "  knn = KNeighborsClassifier(n_neighbors=k, weights='distance')\n",
        "  knn.fit(X_train, y_train)\n",
        "  knn_predict = knn.predict(X_test)\n",
        "  accuracy = accuracy_score(y_test, knn_predict)\n",
        "  ACCURACY.append(accuracy)\n",
        "  # print(accuracy)\n",
        "\n",
        "# we finally plot the confusion matrix\n",
        "bestk = np.argmax(ACCURACY)+1\n",
        "knn = KNeighborsClassifier(n_neighbors=bestk, weights='distance')\n",
        "knn.fit(X_train, y_train)\n",
        "knn_predict = knn.predict(X_test)\n",
        "fig, ax = plt.subplots(figsize=(15, 15));\n",
        "ConfusionMatrixDisplay.from_predictions(knn_predict, y_test, ax=ax, normalize='true');"
      ],
      "metadata": {
        "colab": {
          "base_uri": "https://localhost:8080/",
          "height": 1000
        },
        "id": "KrOMg72AtTH_",
        "outputId": "28f30aa8-a982-463a-bc2e-d02baadbb9d3"
      },
      "execution_count": 99,
      "outputs": [
        {
          "output_type": "display_data",
          "data": {
            "text/plain": [
              "<Figure size 1500x1500 with 2 Axes>"
            ],
            "image/png": "[encoded data removed]"
          },
          "metadata": {}
        }
      ]
    }
  ]
}